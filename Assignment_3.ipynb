{
  "nbformat": 4,
  "nbformat_minor": 0,
  "metadata": {
    "colab": {
      "name": "Assignment 3.ipynb",
      "provenance": [],
      "authorship_tag": "ABX9TyOiEuMmZzm6oqemFPZXy5B1",
      "include_colab_link": true
    },
    "kernelspec": {
      "name": "python3",
      "display_name": "Python 3"
    }
  },
  "cells": [
    {
      "cell_type": "markdown",
      "metadata": {
        "id": "view-in-github",
        "colab_type": "text"
      },
      "source": [
        "<a href=\"https://colab.research.google.com/github/Geethikaanil/Python_assignment_3/blob/main/Assignment_3.ipynb\" target=\"_parent\"><img src=\"https://colab.research.google.com/assets/colab-badge.svg\" alt=\"Open In Colab\"/></a>"
      ]
    },
    {
      "cell_type": "markdown",
      "metadata": {
        "id": "l1JzE7DEvpjo"
      },
      "source": [
        "**Question 1**"
      ]
    },
    {
      "cell_type": "code",
      "metadata": {
        "id": "2cSklqmMvjN9"
      },
      "source": [
        "fle=open(\"world.txt\",\"w\")\r\n",
        "fle.write(\"I Love LetsUpgrade!!\")\r\n",
        "fle.close()"
      ],
      "execution_count": 2,
      "outputs": []
    },
    {
      "cell_type": "code",
      "metadata": {
        "colab": {
          "base_uri": "https://localhost:8080/"
        },
        "id": "ZArgrWVOxNE3",
        "outputId": "71095c69-3ae8-42e9-dd5e-f386f93fbcc8"
      },
      "source": [
        "fle=open(\"world.txt\",\"r\")\r\n",
        "print(fle.read())\r\n",
        "fle.close()"
      ],
      "execution_count": 5,
      "outputs": [
        {
          "output_type": "stream",
          "text": [
            "I Love LetsUpgrade!!\n"
          ],
          "name": "stdout"
        }
      ]
    },
    {
      "cell_type": "code",
      "metadata": {
        "id": "Hf4-YzlhyFPs"
      },
      "source": [
        "fle=open(\"world.txt\",\"a\")\r\n",
        "fle.write(\"Hello Guys\")\r\n",
        "fle.close()"
      ],
      "execution_count": 6,
      "outputs": []
    },
    {
      "cell_type": "code",
      "metadata": {
        "colab": {
          "base_uri": "https://localhost:8080/"
        },
        "id": "El6qJz66yziy",
        "outputId": "c5f23776-310b-4146-efb2-94fe9b88bf8f"
      },
      "source": [
        "fle=open(\"world.txt\",\"r\")\r\n",
        "print(fle.read())\r\n",
        "fle.close()"
      ],
      "execution_count": 7,
      "outputs": [
        {
          "output_type": "stream",
          "text": [
            "I Love LetsUpgrade!!Hello Guys\n"
          ],
          "name": "stdout"
        }
      ]
    },
    {
      "cell_type": "markdown",
      "metadata": {
        "id": "Dmd8Lh1CzQTr"
      },
      "source": [
        "**Question 2**"
      ]
    },
    {
      "cell_type": "code",
      "metadata": {
        "colab": {
          "base_uri": "https://localhost:8080/"
        },
        "id": "BVK626UczVeX",
        "outputId": "76107627-cdfe-4ba3-8ac0-580d7b8cf1b4"
      },
      "source": [
        "n=int(input(\"Enter number:\"))\r\n",
        "def factorial(n):\r\n",
        "  r=1\r\n",
        "  for i in range(2,n+1):\r\n",
        "    r=r*i\r\n",
        "  return r\r\n",
        "print(\"Factorial of\",n,\"is\",factorial(n))"
      ],
      "execution_count": 12,
      "outputs": [
        {
          "output_type": "stream",
          "text": [
            "Enter number:5\n",
            "Factorial of 5 is 120\n"
          ],
          "name": "stdout"
        }
      ]
    }
  ]
}